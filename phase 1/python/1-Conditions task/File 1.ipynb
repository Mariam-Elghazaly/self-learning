{
  "cells": [
    {
      "cell_type": "markdown",
      "metadata": {
        "id": "TXqaO6n1z4n_"
      },
      "source": [
        "## If Statements"
      ]
    },
    {
      "cell_type": "markdown",
      "metadata": {
        "id": "leHy4blBz8bK"
      },
      "source": [
        "Check String Length:"
      ]
    },
    {
      "cell_type": "code",
      "execution_count": 5,
      "metadata": {},
      "outputs": [
        {
          "name": "stdout",
          "output_type": "stream",
          "text": [
            "My name is mariam is a --> long sentence with length of17\n"
          ]
        }
      ],
      "source": [
        "str=input(\"Enter a sentence : \") \n",
        "if len(str)>10:\n",
        "    print(f'{str} is a --> long sentence with length of{len(str)}')"
      ]
    },
    {
      "cell_type": "markdown",
      "metadata": {
        "id": "LmaZjDd70BmT"
      },
      "source": [
        "Check Membership in List"
      ]
    },
    {
      "cell_type": "code",
      "execution_count": null,
      "metadata": {},
      "outputs": [
        {
          "name": "stdout",
          "output_type": "stream",
          "text": [
            "you are accepted in the intern\n"
          ]
        }
      ],
      "source": [
        "programmingLang= ['java','Js','python','C','C++','C#']\n",
        "if 'python' in programmingLang:\n",
        "    print(\"you are accepted in the intern\")"
      ]
    },
    {
      "cell_type": "markdown",
      "metadata": {
        "id": "1i56Wlsa0FHR"
      },
      "source": [
        "Check if Variable is Not None:"
      ]
    },
    {
      "cell_type": "code",
      "execution_count": 8,
      "metadata": {},
      "outputs": [
        {
          "name": "stdout",
          "output_type": "stream",
          "text": [
            "None element\n"
          ]
        }
      ],
      "source": [
        "var1=None \n",
        "var2=2\n",
        "if(var1 == None):\n",
        "    print(\"None element\")\n"
      ]
    },
    {
      "cell_type": "markdown",
      "metadata": {
        "id": "D1jhjSzG0Klh"
      },
      "source": [
        "## If-Else Statements"
      ]
    },
    {
      "cell_type": "markdown",
      "metadata": {
        "id": "c1aoGfzF0QYX"
      },
      "source": [
        "Check Even or Odd Number"
      ]
    },
    {
      "cell_type": "code",
      "execution_count": 11,
      "metadata": {},
      "outputs": [
        {
          "name": "stdout",
          "output_type": "stream",
          "text": [
            "5.0 is odd\n"
          ]
        }
      ],
      "source": [
        "num=float(input(\"Enter a Number: \"))\n",
        "if(num%2==0):\n",
        "    print(f\"{num} is even\")\n",
        "else:\n",
        "    print(f\"{num} is odd\")"
      ]
    },
    {
      "cell_type": "markdown",
      "metadata": {
        "id": "vKYqKVo30SxB"
      },
      "source": [
        "Age Verification"
      ]
    },
    {
      "cell_type": "code",
      "execution_count": 13,
      "metadata": {},
      "outputs": [
        {
          "name": "stdout",
          "output_type": "stream",
          "text": [
            "You are alloed to vote\n"
          ]
        }
      ],
      "source": [
        "age=int(input(\"Enter your age : \"))\n",
        "if(age>=18):\n",
        "    print(\"You are alloed to vote\")\n",
        "else:\n",
        "    print(\"you are not allowed to vote\")\n",
        "    "
      ]
    },
    {
      "cell_type": "markdown",
      "metadata": {
        "id": "Y1gYcvNk0Vg4"
      },
      "source": [
        "Check for Empty List:"
      ]
    },
    {
      "cell_type": "code",
      "execution_count": 14,
      "metadata": {},
      "outputs": [
        {
          "name": "stdout",
          "output_type": "stream",
          "text": [
            "Empty List\n"
          ]
        }
      ],
      "source": [
        "myList=[]\n",
        "if len(myList)==0:\n",
        "    print(\"Empty List\")\n",
        "else:\n",
        "    print(f\"List has{len(myList)} elemnts\")"
      ]
    },
    {
      "cell_type": "markdown",
      "metadata": {
        "id": "vbvpZ8CB0YKn"
      },
      "source": [
        "Temperature Check:"
      ]
    },
    {
      "cell_type": "code",
      "execution_count": 15,
      "metadata": {},
      "outputs": [
        {
          "name": "stdout",
          "output_type": "stream",
          "text": [
            "may be liquied or  water vapor\n"
          ]
        }
      ],
      "source": [
        "temp= float(input(\"Enter water Temperature in celsius : \"))\n",
        "if temp <=0:\n",
        "    print(\"water is ice\")\n",
        "else:\n",
        "    print(\"may be liquied or  water vapor\")"
      ]
    },
    {
      "cell_type": "markdown",
      "metadata": {
        "id": "wnsKtXY_0a-z"
      },
      "source": [
        "## If-Elif-Else Statements"
      ]
    },
    {
      "cell_type": "markdown",
      "metadata": {
        "id": "RKfqpFES0c78"
      },
      "source": [
        "Grading System"
      ]
    },
    {
      "cell_type": "code",
      "execution_count": null,
      "metadata": {},
      "outputs": [
        {
          "name": "stdout",
          "output_type": "stream",
          "text": [
            "F\n"
          ]
        }
      ],
      "source": [
        "grade = int(input(\"enter course grade: \"))\n",
        "if grade>=90 :\n",
        "    print(\"A+\")\n",
        "elif 90>grade>=85:\n",
        "    print(\"A\")\n",
        "elif 85>grade>=80:\n",
        "    print(\"B+\")\n",
        "elif 80>grade>=75:\n",
        "    print(\"B\")\n",
        "elif 75>grade>=70:\n",
        "    print(\"C+\")\n",
        "elif 70>grade>=65:\n",
        "    print(\"C\")\n",
        "elif 65>grade>=60:\n",
        "    print(\"D+\")\n",
        "elif 60>grade>=55:\n",
        "    print(\"D\")\n",
        "else:\n",
        "    print(\"F\")\n",
        "\n",
        "    "
      ]
    },
    {
      "cell_type": "markdown",
      "metadata": {
        "id": "b3AEMEpa0f2H"
      },
      "source": [
        "Traffic Light Signal"
      ]
    },
    {
      "cell_type": "code",
      "execution_count": null,
      "metadata": {},
      "outputs": [
        {
          "name": "stdout",
          "output_type": "stream",
          "text": [
            "Stop\n"
          ]
        }
      ],
      "source": [
        "color=\"Red\"\n",
        "if color==\"Red\":\n",
        "    print(\"Stop\")\n",
        "elif color ==\"Yellow\":\n",
        "    print(\"Wait\")\n",
        "else: \n",
        "    print(\"Go\")"
      ]
    },
    {
      "cell_type": "markdown",
      "metadata": {
        "id": "5o7eorDC0jIN"
      },
      "source": [
        "Classify Age Group"
      ]
    },
    {
      "cell_type": "code",
      "execution_count": null,
      "metadata": {},
      "outputs": [
        {
          "name": "stdout",
          "output_type": "stream",
          "text": [
            "young people\n"
          ]
        }
      ],
      "source": [
        "age= int(input(\"Enter your age : \"))\n",
        "if age<=1:\n",
        "    print(\"baby\")\n",
        "elif 3>=age>1:\n",
        "    print(\"toddler\")\n",
        "elif 12>=age>3:\n",
        "    print(\"child\")\n",
        "elif 19>=age>12:\n",
        "    print(\"teenager\")\n",
        "elif 24>=age>19:\n",
        "    print(\"young people\")\n",
        "else:\n",
        "    print(\"Adults\")\n",
        "    \n",
        "    "
      ]
    },
    {
      "cell_type": "markdown",
      "metadata": {
        "id": "g1ce4jJd0lXN"
      },
      "source": [
        "Check Temperature Range"
      ]
    },
    {
      "cell_type": "code",
      "execution_count": null,
      "metadata": {},
      "outputs": [
        {
          "name": "stdout",
          "output_type": "stream",
          "text": [
            "boiling water \n"
          ]
        }
      ],
      "source": [
        "temp= float(input(\"Enter water Temperature in celsius : \"))\n",
        "if temp <=0:\n",
        "    print(\"water is ice\")\n",
        "elif 0<temp<100:\n",
        "    print(\"liquid water\")\n",
        "else:\n",
        "     print(\"boiling water \")"
      ]
    },
    {
      "cell_type": "markdown",
      "metadata": {
        "id": "FZ76HSBW0n__"
      },
      "source": [
        "## Nested If Statements"
      ]
    },
    {
      "cell_type": "markdown",
      "metadata": {
        "id": "9h8fiLwr0p0s"
      },
      "source": [
        "Permission Check with Age"
      ]
    },
    {
      "cell_type": "code",
      "execution_count": 20,
      "metadata": {},
      "outputs": [
        {
          "name": "stdout",
          "output_type": "stream",
          "text": [
            "you are allowed to vote but not drink\n"
          ]
        }
      ],
      "source": [
        "age = int(input(\"Enter your age: \"))\n",
        "\n",
        "if age>=18:\n",
        "    if age == 18:\n",
        "        print(\"You are not allowed to vote or drink\")\n",
        "    elif 20>=age>18:\n",
        "        print(\"you are allowed to vote but not drink\")\n",
        "    else:\n",
        "        print(\"you are allowed to both voting and drnking\")\n",
        "else:\n",
        "    print(\"not Adult\")\n",
        "    \n",
        "    "
      ]
    },
    {
      "cell_type": "markdown",
      "metadata": {
        "id": "riT_P3Vv0sUw"
      },
      "source": [
        "Nested Condition for Shopping"
      ]
    },
    {
      "cell_type": "code",
      "execution_count": 23,
      "metadata": {},
      "outputs": [
        {
          "name": "stdout",
          "output_type": "stream",
          "text": [
            "NOT allowed to buy call the police😐\n"
          ]
        }
      ],
      "source": [
        "item = 'alcohol'\n",
        "itemNum=10\n",
        "age= int(input(\"Enter your age: \"))\n",
        "money= 5.0\n",
        "\n",
        "if item=='alcohol':\n",
        "    if age>21:\n",
        "        print('you can buy the drink ')\n",
        "        if money==5.0:\n",
        "            itemNum-=1\n",
        "            \n",
        "    else:\n",
        "        print(\"NOT allowed to buy call the police😐\")\n",
        "\n"
      ]
    },
    {
      "cell_type": "markdown",
      "metadata": {
        "id": "ww-f3ZBT0uZK"
      },
      "source": [
        "Nested Temperature and Time Check"
      ]
    },
    {
      "cell_type": "code",
      "execution_count": 24,
      "metadata": {},
      "outputs": [
        {
          "name": "stdout",
          "output_type": "stream",
          "text": [
            "Perfect time for a walk.\n"
          ]
        }
      ],
      "source": [
        "temp = float(input(\"Enter temperature in °C: \"))\n",
        "hour = int(input(\"Enter current hour (0-23): \"))\n",
        "\n",
        "if temp < 10:\n",
        "    if 6 <= hour < 12:\n",
        "        print(\"Wear a heavy jacket.\")\n",
        "    elif hour >= 20 or hour < 6:\n",
        "        print(\"Stay inside, it's too cold.\")\n",
        "        \n",
        "elif 10 <= temp <= 25:\n",
        "    if 12 <= hour < 18:\n",
        "        print(\"Perfect time for a walk.\")\n",
        "        \n",
        "else:  \n",
        "    if 12 <= hour < 18:\n",
        "        print(\"It's hot, drink water.\")\n",
        "    elif 20 <= hour <= 23:\n",
        "        print(\"It's warm at night, open windows.\")\n"
      ]
    },
    {
      "cell_type": "markdown",
      "metadata": {
        "id": "tYIt8Gbg0xC3"
      },
      "source": [
        "Bank Account Balance Check"
      ]
    },
    {
      "cell_type": "code",
      "execution_count": 26,
      "metadata": {},
      "outputs": [
        {
          "name": "stdout",
          "output_type": "stream",
          "text": [
            "Withdrawal approved.\n"
          ]
        }
      ],
      "source": [
        "balance = float(input(\"Enter your current bank balance: \"))\n",
        "withdraw_amount = float(input(\"Enter the amount you want to withdraw: \"))\n",
        "\n",
        "if balance > 0:\n",
        "    if withdraw_amount <= balance:\n",
        "         print(\"Withdrawal approved.\")\n",
        "    else:\n",
        "        print(\"Insufficient funds. Withdrawal denied.\")\n",
        "else:\n",
        "    print(\"Your account is empty or overdrawn. Please deposit money first.\")\n"
      ]
    }
  ],
  "metadata": {
    "colab": {
      "collapsed_sections": [
        "e169VtCkzw43",
        "ypOAmJMsn-KM",
        "0p6Jncqgq9cW",
        "SgsOYkstsK2K",
        "ijzaboJBtEDf",
        "c6Ft7y42zqe7",
        "TXqaO6n1z4n_",
        "D1jhjSzG0Klh",
        "wnsKtXY_0a-z",
        "FZ76HSBW0n__"
      ],
      "provenance": []
    },
    "kernelspec": {
      "display_name": "Python 3",
      "name": "python3"
    },
    "language_info": {
      "codemirror_mode": {
        "name": "ipython",
        "version": 3
      },
      "file_extension": ".py",
      "mimetype": "text/x-python",
      "name": "python",
      "nbconvert_exporter": "python",
      "pygments_lexer": "ipython3",
      "version": "3.12.10"
    }
  },
  "nbformat": 4,
  "nbformat_minor": 0
}
